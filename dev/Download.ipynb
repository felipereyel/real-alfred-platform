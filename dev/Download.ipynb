{
 "cells": [
  {
   "cell_type": "code",
   "execution_count": 1,
   "metadata": {},
   "outputs": [],
   "source": [
    "import requests"
   ]
  },
  {
   "cell_type": "code",
   "execution_count": 8,
   "metadata": {},
   "outputs": [],
   "source": [
    "def getFinalLink(url):\n",
    "\n",
    "    r = requests.get(url)\n",
    "    filtro = ''\n",
    "\n",
    "    if 'torrent' in r.text:\n",
    "        #Eh link de torrent\n",
    "        filtro = 'torrent'\n",
    "    else:\n",
    "        #Eh link de download direto\n",
    "        filtro = 'mega' \n",
    "\n",
    "    ss = r.text.split('\"')\n",
    "    names = []\n",
    "\n",
    "    for line in ss:\n",
    "        if (filtro in line) and ('https' in line):\n",
    "            names.append(line)\n",
    "\n",
    "    return names"
   ]
  },
  {
   "cell_type": "code",
   "execution_count": 3,
   "metadata": {},
   "outputs": [],
   "source": [
    "def downloadTorrentURI(url):\n",
    "    r = requests.get(url, allow_redirects=True)\n",
    "    f = open(url.split('/')[-1], 'wb')\n",
    "    f.write(r.content)\n",
    "    f.close()"
   ]
  },
  {
   "cell_type": "code",
   "execution_count": 9,
   "metadata": {},
   "outputs": [
    {
     "data": {
      "text/plain": [
       "['http://download.psarips.net/files/452384/Marvel%27s.Agents.of.S.H.I.E.L.D.S06E05.The.Other.Thing.1080p.10bit.WEBRip.6CH.x265.HEVC-PSA.rar https://uptobox.com/f75fa2qbom21 https://mega.nz/#!0GZlCSRT!lcEN3Bp5r_zRJVzylNrit-weF5Z0KH_o3GvfjAi_rhY http://katfile.com/8as7xxxkz1ig/Marvel https://openload.co/f/6hOWxQRrSSg/Marvel%27s.Agents.of.S.H.I.E.L.D.S06E05.The.Other.Thing.1080p.10bit.WEBRip.6CH.x265.HEVC-PSA.rar https://clicknupload.org/vmib4qqwy1hb https://www8.zippyshare.com/v/LBFLlR74/file.html http://nitroflare.com/view/C5E9F0D83E4F59A/Marvel%27s.Agents.of.S.H.I.E.L.D.S06E05.The.Other.Thing.1080p.10bit.WEBRip.6CH.x265.HEVC-PSA.rar https://ddl.to/y2qo36xnwemi http://3zfile.net/tjf55wp4zknj https://userscloud.com/fwdrpwcoevnx https://dbupload.in/paal5hv95yv4',\n",
       " 'http://download.psarips.net/files/452384/Marvel%27s.Agents.of.S.H.I.E.L.D.S06E05.The.Other.Thing.1080p.10bit.WEBRip.6CH.x265.HEVC-PSA.rar https://uptobox.com/f75fa2qbom21 https://mega.nz/#!0GZlCSRT!lcEN3Bp5r_zRJVzylNrit-weF5Z0KH_o3GvfjAi_rhY http://katfile.com/8as7xxxkz1ig/Marvel https://openload.co/f/6hOWxQRrSSg/Marvel%27s.Agents.of.S.H.I.E.L.D.S06E05.The.Other.Thing.1080p.10bit.WEBRip.6CH.x265.HEVC-PSA.rar https://clicknupload.org/vmib4qqwy1hb https://www8.zippyshare.com/v/LBFLlR74/file.html http://nitroflare.com/view/C5E9F0D83E4F59A/Marvel%27s.Agents.of.S.H.I.E.L.D.S06E05.The.Other.Thing.1080p.10bit.WEBRip.6CH.x265.HEVC-PSA.rar https://ddl.to/y2qo36xnwemi http://3zfile.net/tjf55wp4zknj https://userscloud.com/fwdrpwcoevnx https://dbupload.in/paal5hv95yv4',\n",
       " 'https://mega.nz/#!0GZlCSRT!lcEN3Bp5r_zRJVzylNrit-weF5Z0KH_o3GvfjAi_rhY',\n",
       " '>https://mega.nz/#!0GZlCSRT!lcEN3Bp5r_zRJVzylNrit-weF5Z0KH_o3GvfjAi_rhY</a><br />\\n<a href=']"
      ]
     },
     "execution_count": 9,
     "metadata": {},
     "output_type": "execute_result"
    }
   ],
   "source": [
    "getFinalLink('https://linx.cloud/marvels-agents-of-s-h-i-e-l-d-s06e05-the-other-thing-1080p-10bit-webrip-6ch-x265-hevc-psa-2175201/')"
   ]
  },
  {
   "cell_type": "code",
   "execution_count": null,
   "metadata": {},
   "outputs": [],
   "source": []
  }
 ],
 "metadata": {
  "kernelspec": {
   "display_name": "Python 3",
   "language": "python",
   "name": "python3"
  },
  "language_info": {
   "codemirror_mode": {
    "name": "ipython",
    "version": 3
   },
   "file_extension": ".py",
   "mimetype": "text/x-python",
   "name": "python",
   "nbconvert_exporter": "python",
   "pygments_lexer": "ipython3",
   "version": "3.7.0"
  }
 },
 "nbformat": 4,
 "nbformat_minor": 2
}
